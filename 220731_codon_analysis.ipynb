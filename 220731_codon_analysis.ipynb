{
 "cells": [
  {
   "cell_type": "code",
   "execution_count": 2,
   "metadata": {
    "execution": {
     "iopub.execute_input": "2023-02-02T02:26:32.704313Z",
     "iopub.status.busy": "2023-02-02T02:26:32.704038Z",
     "iopub.status.idle": "2023-02-02T02:26:35.815179Z",
     "shell.execute_reply": "2023-02-02T02:26:35.814579Z",
     "shell.execute_reply.started": "2023-02-02T02:26:32.704285Z"
    }
   },
   "outputs": [],
   "source": [
    "from typing import Dict, List\n",
    "import re\n",
    "from itertools import product\n",
    "from Bio.Seq import Seq\n",
    "from dnachisel import *"
   ]
  },
  {
   "cell_type": "markdown",
   "metadata": {},
   "source": [
    "# Codon tables from Cocoputs\n",
    "\n",
    "Search codon table by genbank taxonomic ID, then copy and paste table below:\n",
    "* Putida = 160488\n",
    "* E. coli = 469008\n",
    "* C. glut = 196627\n",
    "* S. aureofaciencs = 1894"
   ]
  },
  {
   "cell_type": "code",
   "execution_count": 3,
   "metadata": {
    "execution": {
     "iopub.execute_input": "2023-02-02T02:26:35.816871Z",
     "iopub.status.busy": "2023-02-02T02:26:35.816504Z",
     "iopub.status.idle": "2023-02-02T02:26:35.828510Z",
     "shell.execute_reply": "2023-02-02T02:26:35.827709Z",
     "shell.execute_reply.started": "2023-02-02T02:26:35.816845Z"
    }
   },
   "outputs": [],
   "source": [
    "cglut_table = '''\n",
    "TTT     13.27   (37433) TCT     11.03   (31096) TAT      7.43   ( 20939)        TGT      2.25   ( 6354)\n",
    "TTC     22.76   (64195) TCC     21.45   (60484) TAC     14.68   ( 41401)        TGC      3.96   (11158)\n",
    "TTA      4.98   (14050) TCA      8.12   (22905) TAA      1.69   (  4776)        TGA      0.47   ( 1334)\n",
    "TTG     19.46   (54889) TCG      7.51   (21166) TAG      0.93   (  2631)        TGG     13.92   (39253)\n",
    "\n",
    "CTT     16.62   (46863) CCT     11.23   (31663) CAT      6.63   ( 18706)        CGT     13.74   (38735)\n",
    "CTC     21.89   (61727) CCC      9.66   (27255) CAC     14.15   ( 39909)        CGC     25.14   (70885)\n",
    "CTA      5.78   (16311) CCA     16.86   (47532) CAA     12.93   ( 36460)        CGA      6.50   (18321)\n",
    "CTG     27.85   (78549) CCG     10.42   (29388) CAG     20.80   ( 58658)        CGG      4.78   (13479)\n",
    "\n",
    "ATT     21.79   (61454) ACT     12.53   (35335) AAT     10.89   ( 30697)        AGT      4.81   (13562)\n",
    "ATC     34.28   (96667) ACC     32.73   (92309) AAC     21.84   ( 61593)        AGC     10.25   (28916)\n",
    "ATA      1.67   ( 4716) ACA      7.54   (21253) AAA     13.67   ( 38553)        AGA      2.11   ( 5938)\n",
    "ATG     22.11   (62340) ACG      8.69   (24505) AAG     20.89   ( 58920)        AGG      3.11   ( 8768)\n",
    "\n",
    "GTT     20.88   (58895) GCT     25.64   (72292) GAT     33.31   ( 93921)        GGT     24.38   (68750)\n",
    "GTC     22.31   (62903) GCC     27.28   (76920) GAC     26.57   ( 74940)        GGC     34.27   (96654)\n",
    "GTA      8.06   (22741) GCA     31.60   (89108) GAA     35.99   (101503)        GGA     15.08   (42529)\n",
    "GTG     28.97   (81687) GCG     23.32   (65757) GAG     27.97   ( 78880)        GGG      6.55   (18465)\n",
    "'''\n",
    "ecoli_table = '''\n",
    "TTT     22.24   (114170)        TCT      8.35   ( 42886)        TAT     15.96   ( 81936)        TGT      5.10   ( 26164)\n",
    "TTC     16.60   ( 85242)        TCC      8.61   ( 44203)        TAC     12.16   ( 62447)        TGC      6.40   ( 32845)\n",
    "TTA     13.73   ( 70493)        TCA      6.90   ( 35445)        TAA      2.05   ( 10523)        TGA      0.92   (  4703)\n",
    "TTG     13.67   ( 70177)        TCG      8.90   ( 45694)        TAG      0.21   (  1063)        TGG     15.23   ( 78200)\n",
    "\n",
    "CTT     10.96   ( 56257)        CCT      6.92   ( 35523)        CAT     12.72   ( 65279)        CGT     21.17   (108685)\n",
    "CTC     11.12   ( 57113)        CCC      5.38   ( 27624)        CAC      9.65   ( 49544)        CGC     22.24   (114199)\n",
    "CTA      3.83   ( 19687)        CCA      8.39   ( 43049)        CAA     15.27   ( 78398)        CGA      3.46   ( 17756)\n",
    "CTG     53.63   (275324)        CCG     23.61   (121211)        CAG     28.92   (148464)        CGG      5.13   ( 26332)\n",
    "\n",
    "ATT     30.63   (157252)        ACT      8.85   ( 45411)        AAT     17.31   ( 88890)        AGT      8.55   ( 43903)\n",
    "ATC     25.32   (130003)        ACC     23.39   (120097)        AAC     21.53   (110550)        AGC     16.01   ( 82217)\n",
    "ATA      4.06   ( 20845)        ACA      6.70   ( 34391)        AAA     33.57   (172330)        AGA      1.84   (  9450)\n",
    "ATG     28.12   (144372)        ACG     14.40   ( 73923)        AAG     10.14   ( 52038)        AGG      1.01   (  5190)\n",
    "\n",
    "GTT     18.38   ( 94356)        GCT     15.33   ( 78727)        GAT     32.02   (164381)        GGT     24.98   (128230)\n",
    "GTC     15.24   ( 78233)        GCC     25.80   (132480)        GAC     19.04   ( 97771)        GGC     29.93   (153678)\n",
    "GTA     10.99   ( 56425)        GCA     20.26   (104039)        GAA     39.89   (204803)        GGA      7.75   ( 39810)\n",
    "GTG     26.56   (136348)        GCG     34.26   (175894)        GAG     17.73   ( 91034)        GGG     10.96   ( 56270)\n",
    "'''\n",
    "putida_table = '''\n",
    "TTT      6.95   ( 12556)        TCT      2.31   (  4174)        TAT      6.93   (12523) TGT      1.83   ( 3302)\n",
    "TTC     28.62   ( 51695)        TCC      8.36   ( 15101)        TAC     18.59   (33569) TGC      8.34   (15062)\n",
    "TTA      1.31   (  2359)        TCA      2.72   (  4917)        TAA      0.65   ( 1176) TGA      2.03   ( 3663)\n",
    "TTG     16.52   ( 29836)        TCG     13.82   ( 24968)        TAG      0.34   (  617) TGG     14.46   (26116)\n",
    "\n",
    "CTT      6.79   ( 12271)        CCT      5.80   ( 10475)        CAT      7.84   (14161) CGT     12.79   (23096)\n",
    "CTC     14.64   ( 26446)        CCC     11.29   ( 20382)        CAC     15.55   (28092) CGC     36.71   (66307)\n",
    "CTA      2.47   (  4455)        CCA      6.85   ( 12375)        CAA     10.76   (19441) CGA      2.97   ( 5368)\n",
    "CTG     75.38   (136143)        CCG     24.66   ( 44541)        CAG     36.06   (65119) CGG     10.03   (18107)\n",
    "\n",
    "ATT      9.33   ( 16849)        ACT      4.36   (  7878)        AAT      6.19   (11184) AGT      5.13   ( 9265)\n",
    "ATC     34.49   ( 62287)        ACC     31.75   ( 57351)        AAC     23.56   (42552) AGC     23.82   (43027)\n",
    "ATA      1.91   (  3457)        ACA      3.25   (  5876)        AAA      9.50   (17155) AGA      0.95   ( 1719)\n",
    "ATG     22.80   ( 41181)        ACG      8.34   ( 15070)        AAG     24.41   (44086) AGG      2.04   ( 3689)\n",
    "\n",
    "GTT      6.69   ( 12082)        GCT     11.50   ( 20770)        GAT     15.96   (28832) GGT     16.21   (29271)\n",
    "GTC     21.05   ( 38025)        GCC     58.57   (105774)        GAC     37.42   (67586) GGC     49.64   (89650)\n",
    "GTA      7.38   ( 13335)        GCA     13.20   ( 23836)        GAA     27.40   (49479) GGA      2.54   ( 4584)\n",
    "GTG     37.12   ( 67032)        GCG     28.12   ( 50783)        GAG     29.21   (52758) GGG     11.75   (21217)\n",
    "'''\n",
    "aurefaciens_table = '''\n",
    "TTT      0.29   (  3461)        TCT      0.43   (   5184)       TAT      0.49   (  5813)        TGT      0.57   (  6811)\n",
    "TTC     26.11   (312272)        TCC     18.34   ( 219311)       TAC     19.38   (231808)        TGC      7.27   ( 86912)\n",
    "TTA      0.04   (   492)        TCA      0.83   (   9868)       TAA      0.13   (  1543)        TGA      2.41   ( 28861)\n",
    "TTG      2.64   ( 31522)        TCG     13.45   ( 160834)       TAG      0.52   (  6249)        TGG     15.07   (180286)\n",
    "\n",
    "CTT      1.33   ( 15958)        CCT      1.31   (  15608)       CAT      1.05   ( 12570)        CGT      4.08   ( 48796)\n",
    "CTC     35.24   (421521)        CCC     23.09   ( 276209)       CAC     22.14   (264738)        CGC     37.60   (449717)\n",
    "CTA      0.45   (  5413)        CCA      1.28   (  15367)       CAA      1.43   ( 17043)        CGA      2.64   ( 31526)\n",
    "CTG     67.81   (810998)        CCG     38.43   ( 459612)       CAG     27.56   (329643)        CGG     32.52   (388958)\n",
    "\n",
    "ATT      0.48   (  5777)        ACT      1.08   (  12964)       AAT      0.54   (  6505)        AGT      1.33   ( 15882)\n",
    "ATC     28.45   (340310)        ACC     46.54   ( 556602)       AAC     17.18   (205475)        AGC     14.29   (170913)\n",
    "ATA      0.41   (  4921)        ACA      1.07   (  12852)       AAA      0.62   (  7432)        AGA      0.44   (  5240)\n",
    "ATG     14.59   (174527)        ACG     12.60   ( 150662)       AAG     17.74   (212153)        AGG      2.83   ( 33872)\n",
    "\n",
    "GTT      1.41   ( 16866)        GCT      3.09   (  36913)       GAT      2.69   ( 32176)        GGT      7.48   ( 89509)\n",
    "GTC     45.83   (548149)        GCC     87.87   (1050908)       GAC     54.55   (652444)        GGC     64.40   (770248)\n",
    "GTA      1.58   ( 18914)        GCA      4.89   (  58464)       GAA      8.00   ( 95624)        GGA      5.57   ( 66597)\n",
    "GTG     35.67   (426603)        GCG     45.40   ( 543026)       GAG     47.08   (563099)        GGG     18.34   (219290)\n",
    "'''"
   ]
  },
  {
   "cell_type": "markdown",
   "metadata": {},
   "source": [
    "# Code to convert cocoputs to dnachisel format"
   ]
  },
  {
   "cell_type": "code",
   "execution_count": 4,
   "metadata": {
    "execution": {
     "iopub.execute_input": "2023-02-02T02:26:35.830096Z",
     "iopub.status.busy": "2023-02-02T02:26:35.829604Z",
     "iopub.status.idle": "2023-02-02T02:26:35.840950Z",
     "shell.execute_reply": "2023-02-02T02:26:35.840206Z",
     "shell.execute_reply.started": "2023-02-02T02:26:35.830063Z"
    }
   },
   "outputs": [],
   "source": [
    "AA_TO_CODON: Dict[str, List[str]] = {\n",
    "    \"*\": [\"TAA\", \"TAG\", \"TGA\"],\n",
    "    \"A\": [\"GCA\", \"GCC\", \"GCG\", \"GCT\"],\n",
    "    \"C\": [\"TGC\", \"TGT\"],\n",
    "    \"D\": [\"GAC\", \"GAT\"],\n",
    "    \"E\": [\"GAA\", \"GAG\"],\n",
    "    \"F\": [\"TTC\", \"TTT\"],\n",
    "    \"G\": [\"GGA\", \"GGC\", \"GGG\", \"GGT\"],\n",
    "    \"H\": [\"CAC\", \"CAT\"],\n",
    "    \"I\": [\"ATA\", \"ATC\", \"ATT\"],\n",
    "    \"K\": [\"AAA\", \"AAG\"],\n",
    "    \"L\": [\"CTA\", \"CTC\", \"CTG\", \"CTT\", \"TTA\", \"TTG\"],\n",
    "    \"M\": [\"ATG\"],\n",
    "    \"N\": [\"AAC\", \"AAT\"],\n",
    "    \"P\": [\"CCA\", \"CCC\", \"CCG\", \"CCT\"],\n",
    "    \"Q\": [\"CAA\", \"CAG\"],\n",
    "    \"R\": [\"AGA\", \"AGG\", \"CGA\", \"CGC\", \"CGG\", \"CGT\"],\n",
    "    \"S\": [\"AGC\", \"AGT\", \"TCA\", \"TCC\", \"TCG\", \"TCT\"],\n",
    "    \"T\": [\"ACA\", \"ACC\", \"ACG\", \"ACT\"],\n",
    "    \"V\": [\"GTA\", \"GTC\", \"GTG\", \"GTT\"],\n",
    "    \"W\": [\"TGG\"],\n",
    "    \"Y\": [\"TAC\", \"TAT\"],\n",
    "}\n",
    "\n",
    "\n",
    "def translate(seq: str) -> str:\n",
    "    return str(Seq(seq).translate())\n",
    "\n",
    "\n",
    "def read_codon_table(table: str) -> Dict[str, float]:\n",
    "    codon_counts: Dict[str, float] = {\n",
    "        codon.upper(): int(count)\n",
    "        for codon, count in re.findall(\n",
    "            \"([ATCG][ATCG][ATCG])\\s+\\d+.\\d+\\s+\\(\\s*(\\d+)\\)\",\n",
    "            table.replace(\"U\", \"T\"),\n",
    "        )\n",
    "    }\n",
    "    return codon_counts\n",
    "\n",
    "\n",
    "def convert_cocoputs_table_to_dnachisel(\n",
    "    table: str,\n",
    ") -> Dict[str, Dict[str, float]]:\n",
    "    codon_table_counts = read_codon_table(table)\n",
    "    new_codon_table: Dict[str, Dict[str, float]] = {}\n",
    "    for aa in AA_TO_CODON:\n",
    "        new_codon_table[aa] = {}\n",
    "        codon_sum: int = sum(\n",
    "            [codon_table_counts[codon] for codon in AA_TO_CODON[aa]]\n",
    "        )\n",
    "        for codon in AA_TO_CODON[aa]:\n",
    "            new_codon_table[aa][codon] = round(\n",
    "                codon_table_counts[codon] / codon_sum, 3\n",
    "            )\n",
    "    return new_codon_table"
   ]
  },
  {
   "cell_type": "markdown",
   "metadata": {},
   "source": [
    "# Examples"
   ]
  },
  {
   "cell_type": "code",
   "execution_count": 5,
   "metadata": {
    "execution": {
     "iopub.execute_input": "2023-02-02T02:26:35.842939Z",
     "iopub.status.busy": "2023-02-02T02:26:35.842594Z",
     "iopub.status.idle": "2023-02-02T02:26:35.848509Z",
     "shell.execute_reply": "2023-02-02T02:26:35.847669Z",
     "shell.execute_reply.started": "2023-02-02T02:26:35.842909Z"
    }
   },
   "outputs": [],
   "source": [
    "ecoli_dnachisel = convert_cocoputs_table_to_dnachisel(ecoli_table)\n",
    "putida_dnachisel = convert_cocoputs_table_to_dnachisel(putida_table)\n",
    "cglut_dnachisel = convert_cocoputs_table_to_dnachisel(cglut_table)\n",
    "aurefaciens_dnachisel = convert_cocoputs_table_to_dnachisel(aurefaciens_table)"
   ]
  },
  {
   "cell_type": "code",
   "execution_count": 7,
   "metadata": {
    "execution": {
     "iopub.execute_input": "2023-02-02T02:27:08.554648Z",
     "iopub.status.busy": "2023-02-02T02:27:08.554313Z",
     "iopub.status.idle": "2023-02-02T02:27:08.563337Z",
     "shell.execute_reply": "2023-02-02T02:27:08.562602Z",
     "shell.execute_reply.started": "2023-02-02T02:27:08.554614Z"
    },
    "tags": []
   },
   "outputs": [
    {
     "data": {
      "text/plain": [
       "{'TTT': 114170,\n",
       " 'TCT': 42886,\n",
       " 'TAT': 81936,\n",
       " 'TGT': 26164,\n",
       " 'TTC': 85242,\n",
       " 'TCC': 44203,\n",
       " 'TAC': 62447,\n",
       " 'TGC': 32845,\n",
       " 'TTA': 70493,\n",
       " 'TCA': 35445,\n",
       " 'TAA': 10523,\n",
       " 'TGA': 4703,\n",
       " 'TTG': 70177,\n",
       " 'TCG': 45694,\n",
       " 'TAG': 1063,\n",
       " 'TGG': 78200,\n",
       " 'CTT': 56257,\n",
       " 'CCT': 35523,\n",
       " 'CAT': 65279,\n",
       " 'CGT': 108685,\n",
       " 'CTC': 57113,\n",
       " 'CCC': 27624,\n",
       " 'CAC': 49544,\n",
       " 'CGC': 114199,\n",
       " 'CTA': 19687,\n",
       " 'CCA': 43049,\n",
       " 'CAA': 78398,\n",
       " 'CGA': 17756,\n",
       " 'CTG': 275324,\n",
       " 'CCG': 121211,\n",
       " 'CAG': 148464,\n",
       " 'CGG': 26332,\n",
       " 'ATT': 157252,\n",
       " 'ACT': 45411,\n",
       " 'AAT': 88890,\n",
       " 'AGT': 43903,\n",
       " 'ATC': 130003,\n",
       " 'ACC': 120097,\n",
       " 'AAC': 110550,\n",
       " 'AGC': 82217,\n",
       " 'ATA': 20845,\n",
       " 'ACA': 34391,\n",
       " 'AAA': 172330,\n",
       " 'AGA': 9450,\n",
       " 'ATG': 144372,\n",
       " 'ACG': 73923,\n",
       " 'AAG': 52038,\n",
       " 'AGG': 5190,\n",
       " 'GTT': 94356,\n",
       " 'GCT': 78727,\n",
       " 'GAT': 164381,\n",
       " 'GGT': 128230,\n",
       " 'GTC': 78233,\n",
       " 'GCC': 132480,\n",
       " 'GAC': 97771,\n",
       " 'GGC': 153678,\n",
       " 'GTA': 56425,\n",
       " 'GCA': 104039,\n",
       " 'GAA': 204803,\n",
       " 'GGA': 39810,\n",
       " 'GTG': 136348,\n",
       " 'GCG': 175894,\n",
       " 'GAG': 91034,\n",
       " 'GGG': 56270}"
      ]
     },
     "execution_count": 7,
     "metadata": {},
     "output_type": "execute_result"
    }
   ],
   "source": [
    "read_codon_table(ecoli_table)"
   ]
  },
  {
   "cell_type": "code",
   "execution_count": 6,
   "metadata": {
    "execution": {
     "iopub.execute_input": "2023-02-02T02:26:38.667006Z",
     "iopub.status.busy": "2023-02-02T02:26:38.666523Z",
     "iopub.status.idle": "2023-02-02T02:26:38.676416Z",
     "shell.execute_reply": "2023-02-02T02:26:38.675628Z",
     "shell.execute_reply.started": "2023-02-02T02:26:38.666977Z"
    },
    "tags": []
   },
   "outputs": [
    {
     "data": {
      "text/plain": [
       "{'*': {'TAA': 0.646, 'TAG': 0.065, 'TGA': 0.289},\n",
       " 'A': {'GCA': 0.212, 'GCC': 0.27, 'GCG': 0.358, 'GCT': 0.16},\n",
       " 'C': {'TGC': 0.557, 'TGT': 0.443},\n",
       " 'D': {'GAC': 0.373, 'GAT': 0.627},\n",
       " 'E': {'GAA': 0.692, 'GAG': 0.308},\n",
       " 'F': {'TTC': 0.427, 'TTT': 0.573},\n",
       " 'G': {'GGA': 0.105, 'GGC': 0.407, 'GGG': 0.149, 'GGT': 0.339},\n",
       " 'H': {'CAC': 0.431, 'CAT': 0.569},\n",
       " 'I': {'ATA': 0.068, 'ATC': 0.422, 'ATT': 0.51},\n",
       " 'K': {'AAA': 0.768, 'AAG': 0.232},\n",
       " 'L': {'CTA': 0.036,\n",
       "  'CTC': 0.104,\n",
       "  'CTG': 0.501,\n",
       "  'CTT': 0.102,\n",
       "  'TTA': 0.128,\n",
       "  'TTG': 0.128},\n",
       " 'M': {'ATG': 1.0},\n",
       " 'N': {'AAC': 0.554, 'AAT': 0.446},\n",
       " 'P': {'CCA': 0.189, 'CCC': 0.121, 'CCG': 0.533, 'CCT': 0.156},\n",
       " 'Q': {'CAA': 0.346, 'CAG': 0.654},\n",
       " 'R': {'AGA': 0.034,\n",
       "  'AGG': 0.018,\n",
       "  'CGA': 0.063,\n",
       "  'CGC': 0.406,\n",
       "  'CGG': 0.094,\n",
       "  'CGT': 0.386},\n",
       " 'S': {'AGC': 0.279,\n",
       "  'AGT': 0.149,\n",
       "  'TCA': 0.12,\n",
       "  'TCC': 0.15,\n",
       "  'TCG': 0.155,\n",
       "  'TCT': 0.146},\n",
       " 'T': {'ACA': 0.126, 'ACC': 0.439, 'ACG': 0.27, 'ACT': 0.166},\n",
       " 'V': {'GTA': 0.154, 'GTC': 0.214, 'GTG': 0.373, 'GTT': 0.258},\n",
       " 'W': {'TGG': 1.0},\n",
       " 'Y': {'TAC': 0.433, 'TAT': 0.567}}"
      ]
     },
     "execution_count": 6,
     "metadata": {},
     "output_type": "execute_result"
    }
   ],
   "source": [
    "ecoli_dnachisel"
   ]
  },
  {
   "cell_type": "code",
   "execution_count": 1,
   "metadata": {
    "execution": {
     "iopub.execute_input": "2023-02-02T02:18:53.078346Z",
     "iopub.status.busy": "2023-02-02T02:18:53.078026Z",
     "iopub.status.idle": "2023-02-02T02:18:53.325415Z",
     "shell.execute_reply": "2023-02-02T02:18:53.324554Z",
     "shell.execute_reply.started": "2023-02-02T02:18:53.078265Z"
    }
   },
   "outputs": [
    {
     "ename": "NameError",
     "evalue": "name 'random_dna_sequence' is not defined",
     "output_type": "error",
     "traceback": [
      "\u001b[0;31m---------------------------------------------------------------------------\u001b[0m",
      "\u001b[0;31mNameError\u001b[0m                                 Traceback (most recent call last)",
      "\u001b[0;32m/var/folders/mj/hzd791x905q3jq1qzfdtfpw40000gn/T/ipykernel_33081/3413321419.py\u001b[0m in \u001b[0;36m<module>\u001b[0;34m\u001b[0m\n\u001b[1;32m      1\u001b[0m \u001b[0;31m# DEFINE THE OPTIMIZATION PROBLEM\u001b[0m\u001b[0;34m\u001b[0m\u001b[0;34m\u001b[0m\u001b[0;34m\u001b[0m\u001b[0m\n\u001b[1;32m      2\u001b[0m \u001b[0;34m\u001b[0m\u001b[0m\n\u001b[0;32m----> 3\u001b[0;31m \u001b[0minitial_sequence\u001b[0m \u001b[0;34m=\u001b[0m \u001b[0mrandom_dna_sequence\u001b[0m\u001b[0;34m(\u001b[0m\u001b[0;36m30\u001b[0m\u001b[0;34m)\u001b[0m\u001b[0;34m\u001b[0m\u001b[0;34m\u001b[0m\u001b[0m\n\u001b[0m\u001b[1;32m      4\u001b[0m \u001b[0;34m\u001b[0m\u001b[0m\n\u001b[1;32m      5\u001b[0m problem = DnaOptimizationProblem(\n",
      "\u001b[0;31mNameError\u001b[0m: name 'random_dna_sequence' is not defined"
     ]
    }
   ],
   "source": [
    "# DEFINE THE OPTIMIZATION PROBLEM\n",
    "\n",
    "initial_sequence = random_dna_sequence(30)\n",
    "\n",
    "problem = DnaOptimizationProblem(\n",
    "    sequence=initial_sequence,\n",
    "    constraints=[\n",
    "        AvoidPattern(\"BsaI_site\"),\n",
    "        EnforceGCContent(mini=0.3, maxi=0.7, window=50),\n",
    "        EnforceTranslation(),\n",
    "    ],\n",
    "    objectives=[CodonOptimize(codon_usage_table=ecoli_dnachisel, original_codon_usage_table=aurefaciens_dnachisel)]\n",
    ")\n",
    "\n",
    "# SOLVE THE CONSTRAINTS, OPTIMIZE WITH RESPECT TO THE OBJECTIVE\n",
    "\n",
    "problem.resolve_constraints()\n",
    "problem.optimize()\n",
    "\n",
    "# PRINT SUMMARIES TO CHECK THAT CONSTRAINTS PASS\n",
    "\n",
    "print(problem.constraints_text_summary())\n",
    "print(problem.objectives_text_summary())\n",
    "\n",
    "# GET THE FINAL SEQUENCE (AS STRING OR ANNOTATED BIOPYTHON RECORDS)\n",
    "\n",
    "final_sequence = problem.sequence  # string\n",
    "final_record = problem.to_record(with_sequence_edits=True)\n"
   ]
  },
  {
   "cell_type": "code",
   "execution_count": 6,
   "metadata": {},
   "outputs": [
    {
     "data": {
      "text/plain": [
       "'CCTAGTGCGAAACGCTCCAAGTCCGTCAAC'"
      ]
     },
     "execution_count": 6,
     "metadata": {},
     "output_type": "execute_result"
    }
   ],
   "source": [
    "initial_sequence"
   ]
  },
  {
   "cell_type": "code",
   "execution_count": 7,
   "metadata": {},
   "outputs": [
    {
     "data": {
      "text/plain": [
       "'CCGAGCGCGAAACGCAGCAAAAGCGTGAAC'"
      ]
     },
     "execution_count": 7,
     "metadata": {},
     "output_type": "execute_result"
    }
   ],
   "source": [
    "final_sequence"
   ]
  },
  {
   "cell_type": "code",
   "execution_count": 8,
   "metadata": {},
   "outputs": [
    {
     "data": {
      "text/plain": [
       "'PSAKRSKSVN'"
      ]
     },
     "execution_count": 8,
     "metadata": {},
     "output_type": "execute_result"
    }
   ],
   "source": [
    "translate(initial_sequence)"
   ]
  },
  {
   "cell_type": "code",
   "execution_count": 9,
   "metadata": {},
   "outputs": [
    {
     "data": {
      "text/plain": [
       "'PSAKRSKSVN'"
      ]
     },
     "execution_count": 9,
     "metadata": {},
     "output_type": "execute_result"
    }
   ],
   "source": [
    "translate(final_sequence)"
   ]
  }
 ],
 "metadata": {
  "kernelspec": {
   "display_name": "Python 3 (ipykernel)",
   "language": "python",
   "name": "python3"
  },
  "language_info": {
   "codemirror_mode": {
    "name": "ipython",
    "version": 3
   },
   "file_extension": ".py",
   "mimetype": "text/x-python",
   "name": "python",
   "nbconvert_exporter": "python",
   "pygments_lexer": "ipython3",
   "version": "3.7.15"
  }
 },
 "nbformat": 4,
 "nbformat_minor": 4
}
